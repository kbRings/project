{
 "cells": [
  {
   "cell_type": "markdown",
   "metadata": {},
   "source": [
    "# 封装元素定位函数"
   ]
  },
  {
   "cell_type": "markdown",
   "metadata": {},
   "source": [
    "Selenium中，经常需要复用某些元素获取的方法，毕竟每次都find_element_by_xxx有点太繁琐了。\n",
    "\n",
    "我们可以将一些常用的方法进行二次封装，在弄一个简单的函数出来。"
   ]
  },
  {
   "cell_type": "code",
   "execution_count": 1,
   "metadata": {},
   "outputs": [],
   "source": [
    "from selenium import webdriver\n",
    "import time\n",
    "from selenium.webdriver.common.action_chains import ActionChains\n",
    "\n",
    "# 通过ID获取元素\n",
    "def id(element):\n",
    "    return driver.find_element_by_id(element)\n",
    "\n",
    "# 通过CSS获取元素\n",
    "def css(element):\n",
    "    return driver.find_element_by_css_selector(element)\n",
    "\n",
    "# 通过name获取\n",
    "def name(element):\n",
    "    return driver.find_element_by_name(element)"
   ]
  },
  {
   "cell_type": "code",
   "execution_count": 2,
   "metadata": {},
   "outputs": [],
   "source": [
    "from selenium import webdriver\n",
    "import time\n",
    "from selenium.webdriver.common.action_chains import ActionChains\n",
    "driver = webdriver.Chrome()\n",
    "driver.maximize_window()\n",
    "driver.get('https://flight.tuniu.com/')\n",
    "\n",
    "# 定义好出发和到达的城市\n",
    "from_city = \"SJZ\"\n",
    "to_city = \"SY\"\n",
    "from_date = \"2021-02-01\"\n",
    "id(\"J_FormDepartCity\").clear()\n",
    "id(\"J_FormDepartCity\").send_keys(from_city)\n",
    "time.sleep(2)\n",
    "driver.find_element_by_xpath(\"//div[@class='autocomplete-suggestions'][1]/div[1]\").click()\n",
    "id(\"J_FormDestCity\").send_keys(to_city)\n",
    "time.sleep(2)\n",
    "driver.find_element_by_xpath(\"//div[@class='autocomplete-suggestions'][2]/div[2]\").click()\n",
    "\n",
    "# 删除时间控件的只读属性\n",
    "driver.execute_script(\"document.getElementById('J_FormDepartDate').removeAttribute('readonly')\")\n",
    "# 设置时间\n",
    "id(\"J_FormDepartDate\").clear()\n",
    "id(\"J_FormDepartDate\").send_keys(from_date)\n",
    "\n",
    "# 点击一下其他位置，清除浮窗\n",
    "ActionChains(driver).move_by_offset(0, 10).click().perform()\n",
    "\n",
    "# 点击搜索按钮\n",
    "time.sleep(1)\n",
    "id(\"J_Search\").click()"
   ]
  },
  {
   "cell_type": "markdown",
   "metadata": {},
   "source": [
    "## 提炼函数到单独的文件中"
   ]
  },
  {
   "cell_type": "markdown",
   "metadata": {},
   "source": [
    "函数写完之后，但是还是与所有的Python代码混合在一起，可以通过代码分层，将一些函数提炼到一个单独的文件中。\n",
    "例如可以将上文写的几个函数提炼到一个function.py文件中。\n",
    "\n",
    "在pycharm中实现。"
   ]
  },
  {
   "cell_type": "markdown",
   "metadata": {},
   "source": [
    "## Selenium代码异常"
   ]
  },
  {
   "cell_type": "markdown",
   "metadata": {},
   "source": [
    "项目除了结构设计得合理以外，还需要较高的异常处理能力，在Selenium中，常见的异常都可以在下述网址直接查询到。\n",
    "\n",
    "https://www.selenium.dev/selenium/docs/api/py/common/selenium.common.exceptions.html#module-selenium.common.exceptions"
   ]
  },
  {
   "cell_type": "markdown",
   "metadata": {},
   "source": [
    "最常出现的还是NoSuchElementException，找不到元素，其它错误异常在代码编写过程中，碰到就去官网查询一下即可，\n",
    "要记住编程是离不开手册的，工作多少年都一样。"
   ]
  },
  {
   "cell_type": "markdown",
   "metadata": {},
   "source": [
    "## 补充知识点implicitly_wait()方法"
   ]
  },
  {
   "cell_type": "markdown",
   "metadata": {},
   "source": [
    "在使用Selenium进行网页元素定位的时候，有时页面加载会慢，可能是受网速影响，也可能其它原因，\n",
    "这时需要一个获取元素的等待时间，之前都是采用time模块的sleep方法实现的，\n",
    "其实Selenium也给我们提供了一个自带的方法，即implicitly_wait智能等待，\n",
    "设置一个全局智能等待的时间，那获取元素的时候，就会按照这个时间进行等待，例如设置了10秒，如果5秒元素获取到了，\n",
    "那智能等待就等于5秒，反之，等待10秒还没有获取到，就会进行下一步计算或者报错。\n",
    "\n",
    "具体的代码格式如下："
   ]
  },
  {
   "cell_type": "code",
   "execution_count": null,
   "metadata": {},
   "outputs": [],
   "source": [
    "# 设置全局等待时间为10秒\n",
    "driver.implicitly_wait(10)\n",
    "driver.get('https://flight.tuniu.com/')"
   ]
  }
 ],
 "metadata": {
  "kernelspec": {
   "display_name": "tensorflow2.0",
   "language": "python",
   "name": "tensorflow2.0"
  },
  "language_info": {
   "codemirror_mode": {
    "name": "ipython",
    "version": 3
   },
   "file_extension": ".py",
   "mimetype": "text/x-python",
   "name": "python",
   "nbconvert_exporter": "python",
   "pygments_lexer": "ipython3",
   "version": "3.6.2"
  },
  "toc": {
   "base_numbering": 1,
   "nav_menu": {},
   "number_sections": true,
   "sideBar": true,
   "skip_h1_title": false,
   "title_cell": "Table of Contents",
   "title_sidebar": "Contents",
   "toc_cell": false,
   "toc_position": {},
   "toc_section_display": true,
   "toc_window_display": false
  }
 },
 "nbformat": 4,
 "nbformat_minor": 4
}
