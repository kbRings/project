{
 "cells": [
  {
   "cell_type": "code",
   "execution_count": 1,
   "id": "6271605e",
   "metadata": {},
   "outputs": [],
   "source": [
    "import requests\n",
    "from bs4 import BeautifulSoup"
   ]
  },
  {
   "cell_type": "code",
   "execution_count": 9,
   "id": "72ff6653",
   "metadata": {},
   "outputs": [
    {
     "name": "stdout",
     "output_type": "stream",
     "text": [
      "[{'标题': '灵媒', '简介': '2021-07-14(韩国) / 纳瑞拉·库尔蒙科尔佩特 / 萨尼·乌托玛 / 邦松·纳卡普 / Sirani Yankittikan / 泰国 / 韩国 / 班庄·比辛达拿刚 / 130分钟 / 灵媒 / 恐怖 / 罗泓轸 Hong-jin Na / 班庄·比辛达拿刚 Banjong Pisanthanakun / 泰语'}, {'标题': '致命感应', '简介': '2021-09-01(法国) / 2021-09-10(美国) / 安娜贝拉·沃丽丝 / 麦蒂·哈森 / 吴宇卫 / 米歇尔·沃特 / 麦肯娜·格瑞丝 / 珍·路易莎·凯利 / 苏珊娜·汤姆森 / 杰克·阿贝尔 / 杰奎琳·麦根斯 / 克里斯蒂安·克莱门松 / 梅塞德斯·科隆 / 英格丽·比苏...'}, {'标题': '老去', '简介': '2021-07-21(法国) / 2021-07-23(美国) / 盖尔·加西亚·贝纳尔 / 薇姬·克里普斯 / 卢夫斯·塞维尔 / 亚历克斯·沃尔夫 / 托马辛·麦肯齐 / 阿比·丽 / 妮基·阿姆卡-伯德 / 肯·梁 / 伊莱扎·斯坎伦 / 亚伦·皮埃尔 / 艾伯丝·戴维兹 / 埃蒙·埃利奥特...'}, {'标题': '密室逃生2', '简介': '2021-07-16(美国) / 泰勒·拉塞尔 / 洛根·米勒 / 霍兰·罗登 / 茵蒂娅·摩尔 / 托马斯·康奎尔 / 伊莎贝拉·弗尔曼 / 詹姆斯·弗莱恩 / 卡利托·奥利维罗 / 杰米-李·蒙尼 / 坦娅·范·格拉恩 / 阿维亚娜·亚伯拉罕 / 杰米斯·巴特勒 / 杰伊·欧文...'}, {'标题': '糖果人', '简介': '2021-08-27(美国) / 叶海亚·阿卜杜勒-迈丁 / 泰柔娜·派丽丝 / 内森·斯图尔特-贾瑞特 / 科尔曼·多明戈 / 凯尔·卡明斯基 / 瓦妮莎·威廉姆斯 / 布莱恩·金 / 米里亚姆·莫斯 / 瑞贝卡·斯宾塞 / 卡尔·克莱蒙斯-霍普金斯 / 马力克·怀特 /...'}, {'标题': '犬之力', '简介': '2021-09-02(威尼斯电影节) / 2021-11-17(美国) / 2021-12-01(美国网络) / 本尼迪克特·康伯巴奇 / 克斯汀·邓斯特 / 杰西·普莱蒙 / 柯蒂·斯密特-麦菲 / 托马辛·麦肯齐 / 基思·卡拉丹 / 弗兰西丝·康罗伊 / 吉娜维夫·莱蒙 / 肖恩·基南 / 科恩·霍洛维...'}, {'标题': '兔子暴力', '简介': '2020-11-01(东京电影节) / 2021-08-14(中国大陆) / 万茜 / 李庚希 / 黄觉 / 潘斌龙 / 是安 / 柴烨 / 周子越 / 俞更寅 / 方励 / 耐安 / 中国大陆 / 申瑜 / 104分钟(东京电影节) / 106分钟 / 剧情 / 犯罪 / 家庭 / 申瑜 Yu Shen / 邱玉洁 Yujie Qiu / 方励 Li Fang...'}, {'标题': '地陷', '简介': '2021-08-11(韩国) / 车胜元 / 金成钧 / 李光洙 / 南多凛 / 高昌锡 / 金惠濬 / 罗哲 / 韩国 / 金志勋 / 113分钟 / 地陷 / 剧情 / 灾难 / 全哲洪 Cheol-Hong Jeon / 韩语'}, {'标题': '花束般的恋爱', '简介': '2021-01-29(日本) / 菅田将晖 / 有村架纯 / 细田佳央太 / 清原果耶 / 小田切让 / 押井守 / 户田惠子 / 岩松了 / 小林薰 / 韩英惠 / 泷内公美 / 森优作 / 古川琴音 / 八木亚里纱 / 佐藤宽太 / 冈部崇 / 萩原实里 / 福山翔大 / 萩原利久 / 片山友希...'}, {'标题': '偶然与想象', '简介': '2021-03-04(柏林电影节) / 古川琴音 / 涩川清彦 / 占部房子 / 中岛步 / 玄理 / 森郁月 / 甲斐翔真 / 河井青叶 / 日本 / 滨口龙介 / 121分钟 / 偶然与想象 / 剧情 / 爱情 / 滨口龙介 Ryûsuke Hamaguchi / 日语'}]\n"
     ]
    }
   ],
   "source": [
    "data_list = []\n",
    "url = 'https://movie.douban.com/chart'\n",
    "headers = {'User-Agent': 'Mozilla/5.0 (Macintosh; Intel Mac OS X 10_15_7) AppleWebKit/537.36 (KHTML, like Gecko) Chrome/92.0.4515.131 Safari/537.36'}\n",
    "res = requests.get(url, headers=headers)\n",
    "bs = BeautifulSoup(res.text, 'html.parser')\n",
    "movie_list = bs.find_all('table')\n",
    "for movie in movie_list:\n",
    "    title = movie.find('a', class_='nbg')['title']\n",
    "    brief = movie.find('p', class_='pl').text\n",
    "    movie_dict = {\n",
    "        '标题': title,\n",
    "        '简介': brief\n",
    "    }\n",
    "    data_list.append(movie_dict)\n",
    "    \n",
    "print(data_list)"
   ]
  }
 ],
 "metadata": {
  "kernelspec": {
   "display_name": "Python 3",
   "language": "python",
   "name": "python3"
  },
  "language_info": {
   "codemirror_mode": {
    "name": "ipython",
    "version": 3
   },
   "file_extension": ".py",
   "mimetype": "text/x-python",
   "name": "python",
   "nbconvert_exporter": "python",
   "pygments_lexer": "ipython3",
   "version": "3.8.8"
  }
 },
 "nbformat": 4,
 "nbformat_minor": 5
}
